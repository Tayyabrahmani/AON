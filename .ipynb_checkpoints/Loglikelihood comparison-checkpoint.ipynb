{
 "cells": [
  {
   "cell_type": "markdown",
   "id": "152358a5",
   "metadata": {},
   "source": [
    "### load and process log likelihood of various models"
   ]
  },
  {
   "cell_type": "code",
   "execution_count": 4,
   "id": "657d72bf",
   "metadata": {
    "ExecuteTime": {
     "end_time": "2023-07-02T20:58:27.142877Z",
     "start_time": "2023-07-02T20:58:26.926022Z"
    }
   },
   "outputs": [],
   "source": [
    "import pandas as pd\n",
    "from scipy.stats.distributions import chi2\n",
    "\n",
    "def likelihood_ratio(llmin, llmax):\n",
    "    return(2*(llmax-llmin))"
   ]
  },
  {
   "cell_type": "code",
   "execution_count": 5,
   "id": "091bb60a",
   "metadata": {
    "ExecuteTime": {
     "end_time": "2023-07-02T20:58:27.607825Z",
     "start_time": "2023-07-02T20:58:27.605612Z"
    }
   },
   "outputs": [],
   "source": [
    "log_df = pd.DataFrame()"
   ]
  },
  {
   "cell_type": "code",
   "execution_count": 7,
   "id": "3f8f7c63",
   "metadata": {
    "ExecuteTime": {
     "end_time": "2023-07-02T20:58:35.247859Z",
     "start_time": "2023-07-02T20:58:35.093208Z"
    }
   },
   "outputs": [],
   "source": [
    "for i in range(1, 20):\n",
    "    try:\n",
    "        model1 = pd.read_csv(f\"Model_Output/Model {i}/Model {i}_output.txt\", nrows=35, header=None, sep=\"\\t\")\n",
    "        model1[[\"Parameter\", \"value\"]] = model1[0].str.split(\":\", n=1, expand=True)\n",
    "        dof1 = int(model1[model1[\"Parameter\"].str.strip() == \"Estimated parameters\"]['value'].to_list()[0])\n",
    "        model1 = float(model1[model1[\"Parameter\"].str.strip() == \"LL(final)\"]['value'].to_list()[0])\n",
    "        model2 = pd.read_csv(f\"Model_Output/Model {i+1}/Model {i+1}_output.txt\", nrows=35, header=None, sep=\"\\t\")\n",
    "        model2[[\"Parameter\", \"value\"]] = model2[0].str.split(\":\", n=1, expand=True)\n",
    "        dof2 = int(model2[model2[\"Parameter\"].str.strip() == \"Estimated parameters\"]['value'].to_list()[0])\n",
    "        model2 = float(model2[model2[\"Parameter\"].str.strip() == \"LL(final)\"]['value'].to_list()[0])\n",
    "\n",
    "        LR = likelihood_ratio(model1, model2)\n",
    "        p = chi2.sf(LR, dof2-dof1) # L2 has 1 DoF more than L1\n",
    "\n",
    "        log_df = pd.concat([log_df, pd.DataFrame({\"Model\": [f\"Model {i} - {i+1}\"], \"Log\": [model2], \"DOF Diff\": [dof2-dof1], \"LR\": [LR], \"p value\": [p]})], axis=0)\n",
    "    except:\n",
    "        pass"
   ]
  },
  {
   "cell_type": "code",
   "execution_count": 152,
   "id": "541e88b1",
   "metadata": {
    "ExecuteTime": {
     "end_time": "2023-07-02T18:29:03.616206Z",
     "start_time": "2023-07-02T18:29:03.598595Z"
    },
    "scrolled": true
   },
   "outputs": [],
   "source": [
    "log_df.to_csv(\"LR_TEST.csv\", index=False)"
   ]
  },
  {
   "cell_type": "code",
   "execution_count": 10,
   "id": "02d5b646",
   "metadata": {
    "ExecuteTime": {
     "end_time": "2023-07-02T21:02:03.225587Z",
     "start_time": "2023-07-02T21:02:03.221520Z"
    }
   },
   "outputs": [
    {
     "data": {
      "text/plain": [
       "1.0"
      ]
     },
     "execution_count": 10,
     "metadata": {},
     "output_type": "execute_result"
    }
   ],
   "source": [
    "chi2.sf(likelihood_ratio(-3586.82, -2870.42), 200) # L2 has 1 DoF more than L1"
   ]
  },
  {
   "cell_type": "code",
   "execution_count": null,
   "id": "36bd0e25",
   "metadata": {},
   "outputs": [],
   "source": []
  }
 ],
 "metadata": {
  "kernelspec": {
   "display_name": "Python 3 (ipykernel)",
   "language": "python",
   "name": "python3"
  },
  "language_info": {
   "codemirror_mode": {
    "name": "ipython",
    "version": 3
   },
   "file_extension": ".py",
   "mimetype": "text/x-python",
   "name": "python",
   "nbconvert_exporter": "python",
   "pygments_lexer": "ipython3",
   "version": "3.9.7"
  }
 },
 "nbformat": 4,
 "nbformat_minor": 5
}
