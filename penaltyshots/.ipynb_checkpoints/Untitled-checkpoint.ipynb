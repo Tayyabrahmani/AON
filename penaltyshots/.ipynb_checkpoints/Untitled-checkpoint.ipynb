{
 "cells": [
  {
   "cell_type": "code",
   "execution_count": null,
   "id": "f53ce123",
   "metadata": {},
   "outputs": [],
   "source": [
    "# Questions\n",
    "# Should our target variable be penalty - 0, 1 or should it be goal, missed, saved\n",
    "# we can use the % of penalty scored till now as an independent variable"
   ]
  },
  {
   "cell_type": "code",
   "execution_count": null,
   "id": "2bcead09",
   "metadata": {},
   "outputs": [],
   "source": []
  },
  {
   "cell_type": "markdown",
   "id": "11ef4db3",
   "metadata": {},
   "source": [
    "### START"
   ]
  },
  {
   "cell_type": "code",
   "execution_count": 5,
   "id": "ca0baf2f",
   "metadata": {
    "ExecuteTime": {
     "end_time": "2023-04-14T15:59:07.229476Z",
     "start_time": "2023-04-14T15:59:07.215150Z"
    }
   },
   "outputs": [],
   "source": [
    "import pandas as pd\n",
    "import numpy as np\n",
    "\n",
    "pd.set_option('display.max_colwidth', 500)\n",
    "pd.set_option('display.max_column', None)\n",
    "pd.set_option('display.max_rows', 500)"
   ]
  },
  {
   "cell_type": "markdown",
   "id": "15b18af1",
   "metadata": {},
   "source": [
    "### Loading data"
   ]
  },
  {
   "cell_type": "code",
   "execution_count": 22,
   "id": "75f8e618",
   "metadata": {
    "ExecuteTime": {
     "end_time": "2023-04-14T16:09:36.067629Z",
     "start_time": "2023-04-14T16:09:34.151147Z"
    }
   },
   "outputs": [],
   "source": [
    "df = pd.read_excel(\"Input_Data/Data Set Penalty Excel Abgabe.xlsx\", nrows=2382)\n",
    "df.head(2)"
   ]
  },
  {
   "cell_type": "markdown",
   "id": "d67fa994",
   "metadata": {},
   "source": [
    "### Distribution of data acc to year"
   ]
  },
  {
   "cell_type": "code",
   "execution_count": 62,
   "id": "ff77d1ec",
   "metadata": {
    "ExecuteTime": {
     "end_time": "2023-04-14T16:25:03.613154Z",
     "start_time": "2023-04-14T16:25:03.605152Z"
    }
   },
   "outputs": [
    {
     "data": {
      "text/plain": [
       "2019.0    15.62\n",
       "2020.0    14.90\n",
       "2018.0    12.17\n",
       "2021.0    10.54\n",
       "2016.0     8.31\n",
       "2017.0     6.59\n",
       "2014.0     5.42\n",
       "2015.0     5.42\n",
       "2012.0     4.58\n",
       "2013.0     3.74\n",
       "2010.0     3.44\n",
       "2011.0     2.43\n",
       "2006.0     2.35\n",
       "2008.0     1.81\n",
       "2009.0     1.39\n",
       "2007.0     0.97\n",
       "2005.0     0.21\n",
       "2004.0     0.13\n",
       "Name: Year, dtype: float64"
      ]
     },
     "execution_count": 62,
     "metadata": {},
     "output_type": "execute_result"
    }
   ],
   "source": [
    "df[\"Year\"] = pd.to_datetime(df['Date']).dt.year\n",
    "round(df[\"Year\"].value_counts(normalize=True) * 100, 2)"
   ]
  },
  {
   "cell_type": "markdown",
   "id": "63d0a36e",
   "metadata": {},
   "source": [
    "### # of penalties scored by every player in each year"
   ]
  },
  {
   "cell_type": "code",
   "execution_count": 66,
   "id": "5cdfa21f",
   "metadata": {
    "ExecuteTime": {
     "end_time": "2023-04-14T16:25:55.261142Z",
     "start_time": "2023-04-14T16:25:55.238144Z"
    }
   },
   "outputs": [
    {
     "data": {
      "text/html": [
       "<div>\n",
       "<style scoped>\n",
       "    .dataframe tbody tr th:only-of-type {\n",
       "        vertical-align: middle;\n",
       "    }\n",
       "\n",
       "    .dataframe tbody tr th {\n",
       "        vertical-align: top;\n",
       "    }\n",
       "\n",
       "    .dataframe thead th {\n",
       "        text-align: right;\n",
       "    }\n",
       "</style>\n",
       "<table border=\"1\" class=\"dataframe\">\n",
       "  <thead>\n",
       "    <tr style=\"text-align: right;\">\n",
       "      <th></th>\n",
       "      <th>Year</th>\n",
       "      <th>Player</th>\n",
       "      <th>Status</th>\n",
       "      <th># of shots</th>\n",
       "      <th>Total penalties</th>\n",
       "      <th>% target</th>\n",
       "    </tr>\n",
       "  </thead>\n",
       "  <tbody>\n",
       "    <tr>\n",
       "      <th>1179</th>\n",
       "      <td>2021.0</td>\n",
       "      <td>Özcan</td>\n",
       "      <td>Goal</td>\n",
       "      <td>1</td>\n",
       "      <td>1</td>\n",
       "      <td>100.00</td>\n",
       "    </tr>\n",
       "    <tr>\n",
       "      <th>1177</th>\n",
       "      <td>2021.0</td>\n",
       "      <td>Wekesser</td>\n",
       "      <td>Goal</td>\n",
       "      <td>1</td>\n",
       "      <td>1</td>\n",
       "      <td>100.00</td>\n",
       "    </tr>\n",
       "    <tr>\n",
       "      <th>1174</th>\n",
       "      <td>2021.0</td>\n",
       "      <td>Weghorst</td>\n",
       "      <td>Goal</td>\n",
       "      <td>1</td>\n",
       "      <td>3</td>\n",
       "      <td>33.33</td>\n",
       "    </tr>\n",
       "    <tr>\n",
       "      <th>1173</th>\n",
       "      <td>2021.0</td>\n",
       "      <td>Waris</td>\n",
       "      <td>Goal</td>\n",
       "      <td>1</td>\n",
       "      <td>1</td>\n",
       "      <td>100.00</td>\n",
       "    </tr>\n",
       "    <tr>\n",
       "      <th>1172</th>\n",
       "      <td>2021.0</td>\n",
       "      <td>Wamangituka</td>\n",
       "      <td>Goal</td>\n",
       "      <td>1</td>\n",
       "      <td>1</td>\n",
       "      <td>100.00</td>\n",
       "    </tr>\n",
       "    <tr>\n",
       "      <th>...</th>\n",
       "      <td>...</td>\n",
       "      <td>...</td>\n",
       "      <td>...</td>\n",
       "      <td>...</td>\n",
       "      <td>...</td>\n",
       "      <td>...</td>\n",
       "    </tr>\n",
       "    <tr>\n",
       "      <th>4</th>\n",
       "      <td>2005.0</td>\n",
       "      <td>Ronaldo</td>\n",
       "      <td>Goal</td>\n",
       "      <td>2</td>\n",
       "      <td>2</td>\n",
       "      <td>100.00</td>\n",
       "    </tr>\n",
       "    <tr>\n",
       "      <th>3</th>\n",
       "      <td>2005.0</td>\n",
       "      <td>Messi</td>\n",
       "      <td>Goal</td>\n",
       "      <td>2</td>\n",
       "      <td>2</td>\n",
       "      <td>100.00</td>\n",
       "    </tr>\n",
       "    <tr>\n",
       "      <th>2</th>\n",
       "      <td>2005.0</td>\n",
       "      <td>Agüero</td>\n",
       "      <td>Goal</td>\n",
       "      <td>1</td>\n",
       "      <td>1</td>\n",
       "      <td>100.00</td>\n",
       "    </tr>\n",
       "    <tr>\n",
       "      <th>1</th>\n",
       "      <td>2004.0</td>\n",
       "      <td>Ronaldo</td>\n",
       "      <td>Goal</td>\n",
       "      <td>1</td>\n",
       "      <td>1</td>\n",
       "      <td>100.00</td>\n",
       "    </tr>\n",
       "    <tr>\n",
       "      <th>0</th>\n",
       "      <td>2004.0</td>\n",
       "      <td>Ibrahimovic</td>\n",
       "      <td>Goal</td>\n",
       "      <td>2</td>\n",
       "      <td>2</td>\n",
       "      <td>100.00</td>\n",
       "    </tr>\n",
       "  </tbody>\n",
       "</table>\n",
       "<p>760 rows × 6 columns</p>\n",
       "</div>"
      ],
      "text/plain": [
       "        Year       Player Status  # of shots  Total penalties  % target\n",
       "1179  2021.0        Özcan   Goal           1                1    100.00\n",
       "1177  2021.0     Wekesser   Goal           1                1    100.00\n",
       "1174  2021.0     Weghorst   Goal           1                3     33.33\n",
       "1173  2021.0        Waris   Goal           1                1    100.00\n",
       "1172  2021.0  Wamangituka   Goal           1                1    100.00\n",
       "...      ...          ...    ...         ...              ...       ...\n",
       "4     2005.0      Ronaldo   Goal           2                2    100.00\n",
       "3     2005.0        Messi   Goal           2                2    100.00\n",
       "2     2005.0       Agüero   Goal           1                1    100.00\n",
       "1     2004.0      Ronaldo   Goal           1                1    100.00\n",
       "0     2004.0  Ibrahimovic   Goal           2                2    100.00\n",
       "\n",
       "[760 rows x 6 columns]"
      ]
     },
     "execution_count": 66,
     "metadata": {},
     "output_type": "execute_result"
    }
   ],
   "source": [
    "player_stats = df.groupby(['Year', 'Player', 'Status'], as_index=False, dropna=False).size().sort_values([\"Year\", \"Player\"], ascending=[False, False])\n",
    "player_stats = player_stats.rename(columns={\"size\": \"# of shots\"})\n",
    "player_stats[\"Total penalties\"] = player_stats.groupby(['Year', 'Player'], dropna=False)[\"# of shots\"].transform(\"sum\")\n",
    "player_stats['% target'] = round(player_stats['# of shots'] / player_stats['Total penalties'] * 100, 2)\n",
    "player_stats[player_stats['Status'] == \"Goal\"]"
   ]
  },
  {
   "cell_type": "code",
   "execution_count": null,
   "id": "c33d83e3",
   "metadata": {},
   "outputs": [],
   "source": []
  }
 ],
 "metadata": {
  "kernelspec": {
   "display_name": "Python 3 (ipykernel)",
   "language": "python",
   "name": "python3"
  },
  "language_info": {
   "codemirror_mode": {
    "name": "ipython",
    "version": 3
   },
   "file_extension": ".py",
   "mimetype": "text/x-python",
   "name": "python",
   "nbconvert_exporter": "python",
   "pygments_lexer": "ipython3",
   "version": "3.9.7"
  }
 },
 "nbformat": 4,
 "nbformat_minor": 5
}
